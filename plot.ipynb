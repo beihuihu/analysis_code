{
 "cells": [
  {
   "cell_type": "code",
   "execution_count": 51,
   "metadata": {},
   "outputs": [],
   "source": [
    "import pandas as pd\n",
    "import matplotlib.pyplot as plt\n",
    "import numpy as np\n",
    "import glob\n",
    "import os\n",
    "version='v14_241115'\n",
    "sub_v='_v1'\n",
    "stastic_v=f'{version}{sub_v}'\n",
    "output_dir = os.path.join(r'J:\\lakemapping\\postprocess',version)"
   ]
  },
  {
   "cell_type": "code",
   "execution_count": 62,
   "metadata": {},
   "outputs": [
    {
     "data": {
      "text/html": [
       "<div>\n",
       "<style scoped>\n",
       "    .dataframe tbody tr th:only-of-type {\n",
       "        vertical-align: middle;\n",
       "    }\n",
       "\n",
       "    .dataframe tbody tr th {\n",
       "        vertical-align: top;\n",
       "    }\n",
       "\n",
       "    .dataframe thead th {\n",
       "        text-align: right;\n",
       "    }\n",
       "</style>\n",
       "<table border=\"1\" class=\"dataframe\">\n",
       "  <thead>\n",
       "    <tr style=\"text-align: right;\">\n",
       "      <th></th>\n",
       "      <th>dataset</th>\n",
       "      <th>b</th>\n",
       "      <th>c</th>\n",
       "      <th>d</th>\n",
       "    </tr>\n",
       "  </thead>\n",
       "  <tbody>\n",
       "    <tr>\n",
       "      <th>0</th>\n",
       "      <td>small</td>\n",
       "      <td>12001462</td>\n",
       "      <td>11719528</td>\n",
       "      <td>11739882</td>\n",
       "    </tr>\n",
       "    <tr>\n",
       "      <th>1</th>\n",
       "      <td>medium</td>\n",
       "      <td>182038</td>\n",
       "      <td>194242</td>\n",
       "      <td>195138</td>\n",
       "    </tr>\n",
       "    <tr>\n",
       "      <th>2</th>\n",
       "      <td>big</td>\n",
       "      <td>1676</td>\n",
       "      <td>1934</td>\n",
       "      <td>1970</td>\n",
       "    </tr>\n",
       "  </tbody>\n",
       "</table>\n",
       "</div>"
      ],
      "text/plain": [
       "   dataset         b         c         d\n",
       "0    small  12001462  11719528  11739882\n",
       "1  medium     182038    194242    195138\n",
       "2      big      1676      1934      1970"
      ]
     },
     "execution_count": 62,
     "metadata": {},
     "output_type": "execute_result"
    }
   ],
   "source": [
    "fig_path=os.path.join(output_dir,'8_figure')\n",
    "\n",
    "# 读取 Excel 数据\n",
    "file_path = os.path.join(fig_path,'data.xlsx')  # 替换为你的 Excel 文件路径"
   ]
  },
  {
   "cell_type": "code",
   "execution_count": 66,
   "metadata": {},
   "outputs": [
    {
     "data": {
      "text/plain": [
       "<Axes: >"
      ]
     },
     "execution_count": 66,
     "metadata": {},
     "output_type": "execute_result"
    },
    {
     "data": {
      "image/png": "[encoded data removed]",
      "text/plain": [
       "<Figure size 640x480 with 1 Axes>"
      ]
     },
     "metadata": {},
     "output_type": "display_data"
    }
   ],
   "source": [
    "data.plot(kind='bar')"
   ]
  },
  {
   "cell_type": "code",
   "execution_count": 48,
   "metadata": {},
   "outputs": [
    {
     "data": {
      "text/plain": [
       "0     28233.127307\n",
       "1    203387.792731\n",
       "2    396207.056961\n",
       "3    417574.175807\n",
       "4    374169.444030\n",
       "5    392684.629498\n",
       "6    389773.119080\n",
       "7    423580.496515\n",
       "8    486488.011019\n",
       "Name: b, dtype: float64"
      ]
     },
     "execution_count": 48,
     "metadata": {},
     "output_type": "execute_result"
    }
   ],
   "source": [
    "categories = data['lake size']\n",
    "values = data['b']\n",
    "values"
   ]
  },
  {
   "cell_type": "code",
   "execution_count": 70,
   "metadata": {},
   "outputs": [],
   "source": [
    "categories = data['dataset']"
   ]
  },
  {
   "cell_type": "code",
   "execution_count": null,
   "metadata": {},
   "outputs": [],
   "source": [
    "from matplotlib.ticker import FuncFormatter\n",
    "x=[1,2,3]\n",
    "y=data['b']\n",
    "plt.plot(x,y)\n",
    "#设置y轴为科学计数法显示\n",
    "# 定义样式函数\n",
    "def formatnum(x, pos):\n",
    "    return '%.2f×10$^{6}$' % (x/1e6)\n",
    "formatter = FuncFormatter(formatnum)\n",
    "plt.gca().yaxis.set_major_formatter(formatter)\n",
    "plt.yticks(np.linspace(1,9.5e6,9),fontsize=16)\n",
    "#图形美化设置\n",
    "font1 = {'family' : 'Arial',\n",
    "    'weight' : 'normal',\n",
    "    'size'   : 18,\n",
    "    }\n",
    "plt.rcParams['figure.figsize']=(6.0,4.0)\n",
    "plt.rcParams['savefig.dpi'] = 200 #图片像素\n",
    "plt.rcParams['figure.dpi'] = 200 #分辨率\n",
    "plt.xlabel('$\\t{x}$',font1)\n",
    "plt.ylabel('$\\t{y}$',font1)\n",
    "plt.xticks(fontsize=16)\n",
    "plt.yticks(fontsize=16)\n",
    "plt.show()\n"
   ]
  },
  {
   "cell_type": "code",
   "execution_count": 181,
   "metadata": {},
   "outputs": [
    {
     "data": {
      "text/html": [
       "<div>\n",
       "<style scoped>\n",
       "    .dataframe tbody tr th:only-of-type {\n",
       "        vertical-align: middle;\n",
       "    }\n",
       "\n",
       "    .dataframe tbody tr th {\n",
       "        vertical-align: top;\n",
       "    }\n",
       "\n",
       "    .dataframe thead th {\n",
       "        text-align: right;\n",
       "    }\n",
       "</style>\n",
       "<table border=\"1\" class=\"dataframe\">\n",
       "  <thead>\n",
       "    <tr style=\"text-align: right;\">\n",
       "      <th></th>\n",
       "      <th>area_category</th>\n",
       "      <th>HydroLakes</th>\n",
       "      <th>GLAKES</th>\n",
       "      <th>PLD</th>\n",
       "      <th>d</th>\n",
       "    </tr>\n",
       "  </thead>\n",
       "  <tbody>\n",
       "    <tr>\n",
       "      <th>0</th>\n",
       "      <td>small lake</td>\n",
       "      <td>3.509236e+05</td>\n",
       "      <td>4.757987e+05</td>\n",
       "      <td>4.926048e+05</td>\n",
       "      <td>6.080927e+05</td>\n",
       "    </tr>\n",
       "    <tr>\n",
       "      <th>1</th>\n",
       "      <td>medium lake</td>\n",
       "      <td>8.024937e+05</td>\n",
       "      <td>8.430317e+05</td>\n",
       "      <td>7.445761e+05</td>\n",
       "      <td>8.587921e+05</td>\n",
       "    </tr>\n",
       "    <tr>\n",
       "      <th>2</th>\n",
       "      <td>big lake</td>\n",
       "      <td>1.773305e+06</td>\n",
       "      <td>1.864595e+06</td>\n",
       "      <td>1.752018e+06</td>\n",
       "      <td>1.935299e+06</td>\n",
       "    </tr>\n",
       "  </tbody>\n",
       "</table>\n",
       "</div>"
      ],
      "text/plain": [
       "  area_category    HydroLakes        GLAKES           PLD             d\n",
       "0    small lake  3.509236e+05  4.757987e+05  4.926048e+05  6.080927e+05\n",
       "1   medium lake  8.024937e+05  8.430317e+05  7.445761e+05  8.587921e+05\n",
       "2      big lake  1.773305e+06  1.864595e+06  1.752018e+06  1.935299e+06"
      ]
     },
     "execution_count": 181,
     "metadata": {},
     "output_type": "execute_result"
    }
   ],
   "source": [
    "sheet_name = 'area3'  # 如果需要，替换为具体的工作表名称\n",
    "data = pd.read_excel(file_path, sheet_name=sheet_name)\n",
    "data"
   ]
  },
  {
   "cell_type": "code",
   "execution_count": null,
   "metadata": {},
   "outputs": [],
   "source": [
    "plt.bar(x + offsets[i], data[labels[i]], bar_width/2, label=labels[i], color=colors[i], edgecolor='black')"
   ]
  },
  {
   "cell_type": "code",
   "execution_count": 197,
   "metadata": {},
   "outputs": [
    {
     "data": {
      "text/plain": [
       "<matplotlib.legend.Legend at 0x25b9999fa00>"
      ]
     },
     "execution_count": 197,
     "metadata": {},
     "output_type": "execute_result"
    },
    {
     "data": {
      "image/png": "[encoded data removed]",
      "text/plain": [
       "<Figure size 320x400 with 1 Axes>"
      ]
     },
     "metadata": {},
     "output_type": "display_data"
    }
   ],
   "source": [
    "\n",
    "# 创建双轴\n",
    "# fig, (ax_upper,ax_medium,ax_lower) = plt.subplots(3, 1, sharex=True, figsize=(4, 5),\n",
    "#                                          gridspec_kw={'height_ratios': [1, 1,1]})\n",
    "fig = plt.figure(figsize=(4, 5), dpi=80)\n",
    "# plt.figure(figsize=(10, 6), dpi=80)\n",
    "ax = fig.add_subplot(1, 1, 1)\n",
    "x = np.arange(len(categories))  # 生成横坐标\n",
    "\n",
    "\n",
    "# num_groups=3\n",
    "# num_categories=3\n",
    "# bar_width = 0.25  # 每个柱子的宽度\n",
    "# x = np.arange(num_categories)  # 每个分类的基准位置\n",
    "# offsets = np.linspace(-bar_width, bar_width, num_groups)  # 每组的偏移量\n",
    "\n",
    "\n",
    "# # 绘制分组柱状图\n",
    "# colors = ['skyblue', 'lightgreen', 'salmon']  # 每组的颜色\n",
    "# labels = ['b', 'c', 'd']  # 每组的标签\n",
    "# 绘制分组柱状图\n",
    "colors = ['skyblue', 'lightgreen', 'salmon','pink']  # 每组的颜色\n",
    "labels = ['HydroLakes','GLAKES','PLD','d']  # 每组的标签\n",
    "\n",
    "# 创建图表\n",
    "\n",
    "for i in range(num_groups):\n",
    "    ax.bar(x + offsets[i], data[labels[i]], bar_width/2, label=labels[i], color=colors[i], edgecolor='black')\n",
    "#     ax_lower.bar(x + offsets[i], data[labels[i]], bar_width/2, label=labels[i], color=colors[i], edgecolor='black')\n",
    "#     ax_medium.bar(x + offsets[i], data[labels[i]], bar_width/2, label=labels[i], color=colors[i], edgecolor='black')\n",
    "#     ax_upper.bar(x + offsets[i], data[labels[i]], bar_width/2, label=labels[i], color=colors[i], edgecolor='black')\n",
    "\n",
    "# # # 设置上下轴的范围\n",
    "# # ax_lower.set_ylim(1, 200)\n",
    "# # ax_medium.set_ylim(1000, 200000)\n",
    "# # ax_upper.set_ylim(1000000, 7000000)\n",
    "\n",
    "# ax_lower.set_ylim(600000, 630000)\n",
    "# ax_medium.set_ylim(780000, 860000)\n",
    "# ax_upper.set_ylim(1600000, 2000000)\n",
    "\n",
    "# def formatnum(x, pos):\n",
    "#     return '%.1f×10$^{5}$' % (x/1e5)\n",
    "# formatter = FuncFormatter(formatnum)\n",
    "# # plt.gca().yaxis.set_major_formatter(formatter)\n",
    "# ax_lower.yaxis.set_major_formatter(formatter)\n",
    "# ax_medium.yaxis.set_major_formatter(formatter)\n",
    "# def formatnum(x, pos):\n",
    "#     return '%.1f×10$^{6}$' % (x/1e6)\n",
    "# formatter = FuncFormatter(formatnum)\n",
    "# ax_upper.yaxis.set_major_formatter(formatter)\n",
    "\n",
    "# # # 隐藏上下轴的刻度线\n",
    "# ax_lower.spines['top'].set_visible(False)\n",
    "# ax_medium.spines['top'].set_visible(False)\n",
    "# ax_medium.spines['bottom'].set_visible(False)\n",
    "# ax_upper.spines['bottom'].set_visible(False)\n",
    "\n",
    "# ax_lower.tick_params(top=False)\n",
    "# ax_medium.tick_params(top=False)\n",
    "# ax_medium.tick_params(bottom=False)\n",
    "# ax_upper.tick_params(bottom=False)\n",
    "\n",
    "# # ax_lower.set_yscale(\"log\",base=10,subs=[3])\n",
    "# ax_lower.set_yticks(np.arange(600000, 630001,10000))\n",
    "# # ax_medium.set_yscale(\"log\",base=10,subs=[5,6])\n",
    "# ax_medium.set_yticks(np.arange(780000, 860001,40000))\n",
    "# # ax_medium.set_yticks([1500000,1750000,2000000])\n",
    "# # ax_upper.set_yticks([10000000,11500000, 13000000])\n",
    "# ax_upper.set_yticks(np.arange(1600000, 2000001,200000))\n",
    "\n",
    "# # 添加截断标记\n",
    "# d = 0.015  # 截断标记的尺寸\n",
    "# kwargs = dict(transform=ax_lower.transAxes, color='k', clip_on=False)\n",
    "# ax_lower.plot((-d, +d), (1 - d, 1 + d), **kwargs)\n",
    "# ax_lower.plot((1 - d, 1 + d), (1 - d, 1 + d), **kwargs)\n",
    "\n",
    "# kwargs.update(transform=ax_medium.transAxes)\n",
    "# ax_medium.plot((-d, +d), (1 - d, 1 + d), **kwargs)\n",
    "# ax_medium.plot((1 - d, 1 + d), (1 - d, 1 + d), **kwargs)\n",
    "# ax_medium.plot((-d, +d), (-d, +d), **kwargs)\n",
    "# ax_medium.plot((1 - d, 1 + d), (-d, +d), **kwargs)\n",
    "\n",
    "# kwargs.update(transform=ax_upper.transAxes)\n",
    "# ax_upper.plot((-d, +d), (-d, +d), **kwargs)\n",
    "# ax_upper.plot((1 - d, 1 + d), (-d, +d), **kwargs)\n",
    "\n",
    "# # # 设置分类标签\n",
    "# ax_lower.set_xticks(x)\n",
    "# ax_lower.set_xticklabels(categories,  ha='center')#rotation=45,\n",
    "ax.set_xticks(x)\n",
    "ax.set_xticklabels(categories,  ha='center')\n",
    "ax.set_title('Area')\n",
    "# # # 设置标题和标签\n",
    "# ax_upper.set_title('Area')\n",
    "# # ax_lower.set_ylabel('Value (Lower Range)')\n",
    "# # ax_upper.set_ylabel('Value (Upper Range)')\n",
    "\n",
    "# ax_upper.legend()\n",
    "ax.legend()\n",
    "# # # 调整布局并显示\n",
    "# plt.tight_layout()\n",
    "# plt.show()"
   ]
  },
  {
   "cell_type": "code",
   "execution_count": 180,
   "metadata": {},
   "outputs": [
    {
     "data": {
      "image/png": "[encoded data removed]",
      "text/plain": [
       "<Figure size 800x1000 with 3 Axes>"
      ]
     },
     "metadata": {},
     "output_type": "display_data"
    }
   ],
   "source": [
    "sheet_name = 'count3'  # 如果需要，替换为具体的工作表名称\n",
    "data = pd.read_excel(file_path, sheet_name=sheet_name)\n",
    "\n",
    "# 创建双轴\n",
    "fig, (ax_upper,ax_medium,ax_lower) = plt.subplots(3, 1, sharex=True, figsize=(4, 5),\n",
    "                                         gridspec_kw={'height_ratios': [1, 1,1]})\n",
    "\n",
    "x = np.arange(len(categories))  # 生成横坐标\n",
    "\n",
    "num_groups=4\n",
    "num_categories=3\n",
    "bar_width = 0.3  # 每个柱子的宽度\n",
    "x = np.arange(num_categories)  # 每个分类的基准位置\n",
    "offsets = np.linspace(-bar_width, bar_width, num_groups)  # 每组的偏移量\n",
    "\n",
    "# 创建图表\n",
    "\n",
    "# 绘制分组柱状图\n",
    "colors = ['skyblue', 'lightgreen', 'salmon','pink']  # 每组的颜色\n",
    "labels = ['HydroLakes','GLAKES','PLD','d']  # 每组的标签\n",
    "\n",
    "for i in range(num_groups):\n",
    "    ax_lower.bar(x + offsets[i], data[labels[i]], bar_width/2, label=labels[i], color=colors[i], edgecolor='black')\n",
    "    ax_medium.bar(x + offsets[i], data[labels[i]], bar_width/2, label=labels[i], color=colors[i], edgecolor='black')\n",
    "    ax_upper.bar(x + offsets[i], data[labels[i]], bar_width/2, label=labels[i], color=colors[i], edgecolor='black')\n",
    "\n",
    "# # 设置上下轴的范围\n",
    "# ax_lower.set_ylim(1, 200)\n",
    "# ax_medium.set_ylim(1000, 200000)\n",
    "# ax_upper.set_ylim(1000000, 7000000)\n",
    "\n",
    "ax_lower.set_ylim(1500, 2000)\n",
    "ax_medium.set_ylim(150000, 200000)\n",
    "ax_upper.set_ylim(1000000, 13000000)\n",
    "\n",
    "def formatnum(x, pos):\n",
    "    return '%.1f×10$^{3}$' % (x/1e3)\n",
    "formatter = FuncFormatter(formatnum)\n",
    "# plt.gca().yaxis.set_major_formatter(formatter)\n",
    "ax_lower.yaxis.set_major_formatter(formatter)\n",
    "def formatnum(x, pos):\n",
    "    return '%.1f×10$^{5}$' % (x/1e5)\n",
    "formatter = FuncFormatter(formatnum)\n",
    "ax_medium.yaxis.set_major_formatter(formatter)\n",
    "def formatnum(x, pos):\n",
    "    return '%.1f×10$^{7}$' % (x/1e7)\n",
    "formatter = FuncFormatter(formatnum)\n",
    "ax_upper.yaxis.set_major_formatter(formatter)\n",
    "\n",
    "# # 隐藏上下轴的刻度线\n",
    "ax_lower.spines['top'].set_visible(False)\n",
    "ax_medium.spines['top'].set_visible(False)\n",
    "ax_medium.spines['bottom'].set_visible(False)\n",
    "ax_upper.spines['bottom'].set_visible(False)\n",
    "\n",
    "ax_lower.tick_params(top=False)\n",
    "ax_medium.tick_params(top=False)\n",
    "ax_medium.tick_params(bottom=False)\n",
    "ax_upper.tick_params(bottom=False)\n",
    "\n",
    "# ax_lower.set_yscale(\"log\",base=10,subs=[3])\n",
    "# ax_lower.set_yticks([1500,1750,2000])\n",
    "\n",
    "# ax_medium.set_yscale(\"log\",base=10,subs=[5,6])\n",
    "# ax_medium.set_yticks([150000,175000,200000])\n",
    "# ax_upper.set_yticks([5000000,11500000, 1300000])\n",
    "\n",
    "# 添加截断标记\n",
    "d = 0.015  # 截断标记的尺寸\n",
    "kwargs = dict(transform=ax_lower.transAxes, color='k', clip_on=False)\n",
    "ax_lower.plot((-d, +d), (1 - d, 1 + d), **kwargs)\n",
    "ax_lower.plot((1 - d, 1 + d), (1 - d, 1 + d), **kwargs)\n",
    "\n",
    "kwargs.update(transform=ax_medium.transAxes)\n",
    "ax_medium.plot((-d, +d), (1 - d, 1 + d), **kwargs)\n",
    "ax_medium.plot((1 - d, 1 + d), (1 - d, 1 + d), **kwargs)\n",
    "ax_medium.plot((-d, +d), (-d, +d), **kwargs)\n",
    "ax_medium.plot((1 - d, 1 + d), (-d, +d), **kwargs)\n",
    "\n",
    "kwargs.update(transform=ax_upper.transAxes)\n",
    "ax_upper.plot((-d, +d), (-d, +d), **kwargs)\n",
    "ax_upper.plot((1 - d, 1 + d), (-d, +d), **kwargs)\n",
    "\n",
    "# # 设置分类标签\n",
    "ax_lower.set_xticks(x)\n",
    "ax_lower.set_xticklabels(categories,  ha='center')#rotation=45,\n",
    "\n",
    "# # 设置标题和标签\n",
    "ax_upper.set_title('Count')\n",
    "# ax_lower.set_ylabel('Value (Lower Range)')\n",
    "# ax_upper.set_ylabel('Value (Upper Range)')\n",
    "\n",
    "ax_upper.legend()\n",
    "\n",
    "# # 调整布局并显示\n",
    "plt.tight_layout()\n",
    "plt.show()"
   ]
  },
  {
   "cell_type": "code",
   "execution_count": 178,
   "metadata": {},
   "outputs": [
    {
     "name": "stdout",
     "output_type": "stream",
     "text": [
      "[-0.3 -0.1  0.1  0.3]\n"
     ]
    }
   ],
   "source": [
    "print(offsets)"
   ]
  },
  {
   "cell_type": "code",
   "execution_count": null,
   "metadata": {},
   "outputs": [],
   "source": [
    "# 获取所有CSV文件路径的列表\n",
    "csv_files = glob.glob(\"path/to/your/csv_files/*.csv\")\n",
    "\n",
    "# 设定面积范围和等间距的bins\n",
    "min_area = 0.005  # 最小湖泊面积\n",
    "max_area = 117332  # 最大湖泊面积\n",
    "bins = np.logspace(np.log10(min_area), np.log10(max_area), 105)\n",
    "\n",
    "# 初始化湖泊数量的列表\n",
    "lake_counts = np.zeros(len(bins) - 1)\n",
    "\n",
    "# 遍历所有CSV文件并统计每个bin中的湖泊数量\n",
    "for file in csv_files:\n",
    "    df = pd.read_csv(file)\n",
    "    counts, _ = np.histogram(df['area'], bins=bins)\n",
    "    lake_counts += counts\n",
    "\n",
    "# 绘制散点图\n",
    "plt.figure(figsize=(10, 6))\n",
    "plt.scatter(bins[:-1], lake_counts, color='blue', edgecolor='black')\n",
    "plt.xscale('log')  # 设置x轴为对数尺度\n",
    "plt.yscale('log')  # 设置y轴为对数尺度\n",
    "plt.xlabel('Lake Area (sq km)', fontsize=12)\n",
    "plt.ylabel('Number of Lakes', fontsize=12)\n",
    "plt.title('Scatter Plot of Lake Area Distribution', fontsize=14)\n",
    "plt.grid(True, which=\"both\", ls=\"--\")\n",
    "plt.show()"
   ]
  }
 ],
 "metadata": {
  "kernelspec": {
   "display_name": "ese5023",
   "language": "python",
   "name": "ese5023"
  },
  "language_info": {
   "codemirror_mode": {
    "name": "ipython",
    "version": 3
   },
   "file_extension": ".py",
   "mimetype": "text/x-python",
   "name": "python",
   "nbconvert_exporter": "python",
   "pygments_lexer": "ipython3",
   "version": "3.8.18"
  }
 },
 "nbformat": 4,
 "nbformat_minor": 4
}
